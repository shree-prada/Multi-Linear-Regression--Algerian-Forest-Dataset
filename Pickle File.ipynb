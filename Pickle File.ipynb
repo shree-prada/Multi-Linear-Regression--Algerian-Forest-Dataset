{
 "cells": [
  {
   "cell_type": "code",
   "execution_count": 43,
   "metadata": {},
   "outputs": [],
   "source": [
    "#Importing required Libraries\n",
    "import pandas as pd\n",
    "import pickle"
   ]
  },
  {
   "cell_type": "code",
   "execution_count": 44,
   "metadata": {},
   "outputs": [],
   "source": [
    "# Read the unseen data from the CSV file \"Assign_unseen_data.csv\" into a pandas DataFrame.\n",
    "udf = pd.read_csv(\"Assign_unseen_data.csv\")"
   ]
  },
  {
   "cell_type": "code",
   "execution_count": 45,
   "metadata": {},
   "outputs": [
    {
     "data": {
      "text/html": [
       "<div>\n",
       "<style scoped>\n",
       "    .dataframe tbody tr th:only-of-type {\n",
       "        vertical-align: middle;\n",
       "    }\n",
       "\n",
       "    .dataframe tbody tr th {\n",
       "        vertical-align: top;\n",
       "    }\n",
       "\n",
       "    .dataframe thead th {\n",
       "        text-align: right;\n",
       "    }\n",
       "</style>\n",
       "<table border=\"1\" class=\"dataframe\">\n",
       "  <thead>\n",
       "    <tr style=\"text-align: right;\">\n",
       "      <th></th>\n",
       "      <th>day</th>\n",
       "      <th>month</th>\n",
       "      <th>Temperature</th>\n",
       "      <th>RH</th>\n",
       "      <th>Ws</th>\n",
       "      <th>Rain</th>\n",
       "      <th>FFMC</th>\n",
       "      <th>DMC</th>\n",
       "      <th>DC</th>\n",
       "      <th>ISI</th>\n",
       "      <th>FWI</th>\n",
       "      <th>BUI</th>\n",
       "      <th>Region</th>\n",
       "      <th>Classes_fire</th>\n",
       "      <th>Classes_not_fire</th>\n",
       "    </tr>\n",
       "  </thead>\n",
       "  <tbody>\n",
       "    <tr>\n",
       "      <th>0</th>\n",
       "      <td>28</td>\n",
       "      <td>7</td>\n",
       "      <td>32</td>\n",
       "      <td>60</td>\n",
       "      <td>15</td>\n",
       "      <td>1.5</td>\n",
       "      <td>65.9</td>\n",
       "      <td>4.1</td>\n",
       "      <td>7.8</td>\n",
       "      <td>1.0</td>\n",
       "      <td>0.18</td>\n",
       "      <td>3.6</td>\n",
       "      <td>0</td>\n",
       "      <td>0</td>\n",
       "      <td>1</td>\n",
       "    </tr>\n",
       "    <tr>\n",
       "      <th>1</th>\n",
       "      <td>29</td>\n",
       "      <td>8</td>\n",
       "      <td>35</td>\n",
       "      <td>63</td>\n",
       "      <td>12</td>\n",
       "      <td>0.0</td>\n",
       "      <td>63.4</td>\n",
       "      <td>4.5</td>\n",
       "      <td>8.2</td>\n",
       "      <td>1.5</td>\n",
       "      <td>1.67</td>\n",
       "      <td>3.8</td>\n",
       "      <td>0</td>\n",
       "      <td>1</td>\n",
       "      <td>0</td>\n",
       "    </tr>\n",
       "  </tbody>\n",
       "</table>\n",
       "</div>"
      ],
      "text/plain": [
       "   day  month  Temperature  RH  Ws  Rain  FFMC  DMC   DC  ISI   FWI  BUI  \\\n",
       "0   28      7           32  60  15   1.5  65.9  4.1  7.8  1.0  0.18  3.6   \n",
       "1   29      8           35  63  12   0.0  63.4  4.5  8.2  1.5  1.67  3.8   \n",
       "\n",
       "   Region  Classes_fire  Classes_not_fire  \n",
       "0       0             0                 1  \n",
       "1       0             1                 0  "
      ]
     },
     "execution_count": 45,
     "metadata": {},
     "output_type": "execute_result"
    }
   ],
   "source": [
    "udf"
   ]
  },
  {
   "cell_type": "code",
   "execution_count": 46,
   "metadata": {},
   "outputs": [],
   "source": [
    "# Set the input variables (features) by dropping the 'FWI' column from the unseen DataFrame 'rdf'.\n",
    "input = udf.drop(columns=[\"FWI\"])\n",
    "\n",
    "# Set the target variable by selecting only the 'FWI' column from the unseen DataFrame 'rdf'.\n",
    "output = udf['FWI']"
   ]
  },
  {
   "cell_type": "code",
   "execution_count": 47,
   "metadata": {},
   "outputs": [
    {
     "data": {
      "text/html": [
       "<div>\n",
       "<style scoped>\n",
       "    .dataframe tbody tr th:only-of-type {\n",
       "        vertical-align: middle;\n",
       "    }\n",
       "\n",
       "    .dataframe tbody tr th {\n",
       "        vertical-align: top;\n",
       "    }\n",
       "\n",
       "    .dataframe thead th {\n",
       "        text-align: right;\n",
       "    }\n",
       "</style>\n",
       "<table border=\"1\" class=\"dataframe\">\n",
       "  <thead>\n",
       "    <tr style=\"text-align: right;\">\n",
       "      <th></th>\n",
       "      <th>day</th>\n",
       "      <th>month</th>\n",
       "      <th>Temperature</th>\n",
       "      <th>RH</th>\n",
       "      <th>Ws</th>\n",
       "      <th>Rain</th>\n",
       "      <th>FFMC</th>\n",
       "      <th>DMC</th>\n",
       "      <th>DC</th>\n",
       "      <th>ISI</th>\n",
       "      <th>BUI</th>\n",
       "      <th>Region</th>\n",
       "      <th>Classes_fire</th>\n",
       "      <th>Classes_not_fire</th>\n",
       "    </tr>\n",
       "  </thead>\n",
       "  <tbody>\n",
       "    <tr>\n",
       "      <th>0</th>\n",
       "      <td>28</td>\n",
       "      <td>7</td>\n",
       "      <td>32</td>\n",
       "      <td>60</td>\n",
       "      <td>15</td>\n",
       "      <td>1.5</td>\n",
       "      <td>65.9</td>\n",
       "      <td>4.1</td>\n",
       "      <td>7.8</td>\n",
       "      <td>1.0</td>\n",
       "      <td>3.6</td>\n",
       "      <td>0</td>\n",
       "      <td>0</td>\n",
       "      <td>1</td>\n",
       "    </tr>\n",
       "    <tr>\n",
       "      <th>1</th>\n",
       "      <td>29</td>\n",
       "      <td>8</td>\n",
       "      <td>35</td>\n",
       "      <td>63</td>\n",
       "      <td>12</td>\n",
       "      <td>0.0</td>\n",
       "      <td>63.4</td>\n",
       "      <td>4.5</td>\n",
       "      <td>8.2</td>\n",
       "      <td>1.5</td>\n",
       "      <td>3.8</td>\n",
       "      <td>0</td>\n",
       "      <td>1</td>\n",
       "      <td>0</td>\n",
       "    </tr>\n",
       "  </tbody>\n",
       "</table>\n",
       "</div>"
      ],
      "text/plain": [
       "   day  month  Temperature  RH  Ws  Rain  FFMC  DMC   DC  ISI  BUI  Region  \\\n",
       "0   28      7           32  60  15   1.5  65.9  4.1  7.8  1.0  3.6       0   \n",
       "1   29      8           35  63  12   0.0  63.4  4.5  8.2  1.5  3.8       0   \n",
       "\n",
       "   Classes_fire  Classes_not_fire  \n",
       "0             0                 1  \n",
       "1             1                 0  "
      ]
     },
     "execution_count": 47,
     "metadata": {},
     "output_type": "execute_result"
    }
   ],
   "source": [
    "input"
   ]
  },
  {
   "cell_type": "code",
   "execution_count": 48,
   "metadata": {},
   "outputs": [
    {
     "data": {
      "text/plain": [
       "0    0.18\n",
       "1    1.67\n",
       "Name: FWI, dtype: float64"
      ]
     },
     "execution_count": 48,
     "metadata": {},
     "output_type": "execute_result"
    }
   ],
   "source": [
    "output"
   ]
  },
  {
   "cell_type": "code",
   "execution_count": null,
   "metadata": {},
   "outputs": [],
   "source": [
    "# Load the scaler pickle file to scale the unseen data.\n",
    "scal_new_data = pickle.load(open('mk_scaler_assign.pkl', 'rb'))\n",
    "\n",
    "# Scale the input features of the unseen data using the loaded scaler.\n",
    "scaled_df = scal_new_data.transform(input)"
   ]
  },
  {
   "cell_type": "code",
   "execution_count": 51,
   "metadata": {},
   "outputs": [
    {
     "data": {
      "text/plain": [
       "array([[ 1.34445155, -0.40740741, -0.0112222 , -0.18652146, -0.20923404,\n",
       "         0.30074338, -0.81104769, -0.84245499, -0.86710487, -0.87252794,\n",
       "        -0.90943979, -1.        , -1.098996  ,  1.098996  ],\n",
       "       [ 1.45605153,  0.49206349,  0.80639527,  0.01630571, -1.35664652,\n",
       "        -0.38582388, -0.98630459, -0.81142702, -0.85898937, -0.75597148,\n",
       "        -0.89596191, -1.        ,  0.90992142, -0.90992142]])"
      ]
     },
     "execution_count": 51,
     "metadata": {},
     "output_type": "execute_result"
    }
   ],
   "source": [
    "scaled_df"
   ]
  },
  {
   "cell_type": "code",
   "execution_count": null,
   "metadata": {},
   "outputs": [],
   "source": [
    "# Load the trained Linear Regression model from the pickle file.\n",
    "mlr_new = pickle.load(open('sd_mlr_assign.pkl', 'rb'))\n",
    "\n",
    "# Predict the output variable 'FWI' using the loaded model on the scaled unseen data.\n",
    "y_pred_new = mlr_new.predict(scaled_df)"
   ]
  },
  {
   "cell_type": "code",
   "execution_count": 53,
   "metadata": {},
   "outputs": [
    {
     "name": "stdout",
     "output_type": "stream",
     "text": [
      "r2: 0.9995900872373441\n",
      "mae: 0.01171783653446093\n",
      "mse: 0.00022751183109308423\n"
     ]
    }
   ],
   "source": [
    "# Model Evaluation for the predictions on unseen data.\n",
    "\n",
    "from sklearn.metrics import mean_absolute_error, mean_squared_error, r2_score\n",
    "\n",
    "# Calculate Mean Squared Error (MSE)\n",
    "mse = mean_squared_error(output, y_pred_new)\n",
    "\n",
    "# Calculate Mean Absolute Error (MAE)\n",
    "mae = mean_absolute_error(output, y_pred_new)\n",
    "\n",
    "# Calculate R-squared (R2) score\n",
    "r2 = r2_score(output, y_pred_new)\n",
    "\n",
    "# Print evaluation metrics\n",
    "print('r2:', r2)\n",
    "print('mae:', mae)\n",
    "print('mse:', mse)"
   ]
  },
  {
   "cell_type": "code",
   "execution_count": 54,
   "metadata": {},
   "outputs": [
    {
     "data": {
      "text/plain": [
       "array([0.17777975, 1.64878458])"
      ]
     },
     "execution_count": 54,
     "metadata": {},
     "output_type": "execute_result"
    }
   ],
   "source": [
    "y_pred_new"
   ]
  }
 ],
 "metadata": {
  "kernelspec": {
   "display_name": "Python 3",
   "language": "python",
   "name": "python3"
  },
  "language_info": {
   "codemirror_mode": {
    "name": "ipython",
    "version": 3
   },
   "file_extension": ".py",
   "mimetype": "text/x-python",
   "name": "python",
   "nbconvert_exporter": "python",
   "pygments_lexer": "ipython3",
   "version": "3.11.3"
  }
 },
 "nbformat": 4,
 "nbformat_minor": 2
}
